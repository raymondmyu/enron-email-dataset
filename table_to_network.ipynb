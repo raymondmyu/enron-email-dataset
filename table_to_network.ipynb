{
 "cells": [
  {
   "cell_type": "code",
   "execution_count": 9,
   "metadata": {},
   "outputs": [],
   "source": [
    "import pandas as pd\n",
    "\n",
    "def table_to_network(df_in, c):\n",
    "    df = df_in.copy()\n",
    "    df = df.groupby(c).apply(lambda x: x.iloc[:15]).reset_index(drop=True)\n",
    "    nodes = pd.concat([df[c].drop_duplicates(), df.entity.drop_duplicates()], ignore_index=True)\n",
    "    nodes = nodes.reset_index().rename(columns={0: 'label', 'index': 'id'})\n",
    "    num_persons = len(df[c].drop_duplicates())\n",
    "    nodes['group'] = ([c]*num_persons)+(['word']*(nodes.shape[0]-num_persons))\n",
    "    nodes['label'] = nodes['label'].astype(str)\n",
    "    \n",
    "    edges = df[[c,'entity']]\n",
    "    edges[c] = edges[c].astype(str)\n",
    "\n",
    "    edges.columns = ['from','to']\n",
    "    edges = edges.merge(nodes, left_on='from', right_on='label').iloc[:,:-2]\\\n",
    "                 .merge(nodes, left_on='to', right_on='label').iloc[:,:-2]\n",
    "\n",
    "    edges = edges.iloc[:, 2:]\n",
    "    edges.columns = ['from','to']\n",
    "    \n",
    "    return nodes, edges"
   ]
  },
  {
   "cell_type": "code",
   "execution_count": 35,
   "metadata": {},
   "outputs": [
    {
     "name": "stderr",
     "output_type": "stream",
     "text": [
      "/home/ray/anaconda3/lib/python3.6/site-packages/ipykernel_launcher.py:11: SettingWithCopyWarning: \n",
      "A value is trying to be set on a copy of a slice from a DataFrame.\n",
      "Try using .loc[row_indexer,col_indexer] = value instead\n",
      "\n",
      "See the caveats in the documentation: http://pandas.pydata.org/pandas-docs/stable/indexing.html#indexing-view-versus-copy\n",
      "  # This is added back by InteractiveShellApp.init_path()\n"
     ]
    }
   ],
   "source": [
    "nodes, edges = table_to_network(pd.read_excel('ents_by_monthyear.xlsx'),'MonthYear_')"
   ]
  },
  {
   "cell_type": "code",
   "execution_count": 36,
   "metadata": {},
   "outputs": [],
   "source": [
    "nodes.to_json('nodes_monthyear.json', orient='records')\n",
    "\n",
    "edges.to_json('edges_monthyear.json', orient='records')"
   ]
  },
  {
   "cell_type": "code",
   "execution_count": null,
   "metadata": {},
   "outputs": [],
   "source": []
  }
 ],
 "metadata": {
  "kernelspec": {
   "display_name": "Python 3",
   "language": "python",
   "name": "python3"
  },
  "language_info": {
   "codemirror_mode": {
    "name": "ipython",
    "version": 3
   },
   "file_extension": ".py",
   "mimetype": "text/x-python",
   "name": "python",
   "nbconvert_exporter": "python",
   "pygments_lexer": "ipython3",
   "version": "3.6.5"
  }
 },
 "nbformat": 4,
 "nbformat_minor": 2
}
